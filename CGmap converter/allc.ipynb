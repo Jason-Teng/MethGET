{
 "cells": [
  {
   "cell_type": "code",
   "execution_count": null,
   "metadata": {},
   "outputs": [],
   "source": [
    "1\t1\t+\tCCC\t0\t1\t0\tCHH\n",
    "1\t2\t+\tCCT\t0\t2\t0\tCHH\n",
    "1\t3\t+\tCTA\t0\t2\t0\tCHH\n",
    "1\t8\t+\tCCC\t0\t2\t0\tCHH\n",
    "1\t9\t+\tCCT\t0\t2\t0\tCHH\n",
    "1\t10\t+\tCTA\t0\t2\t0\tCHH\n",
    "1\t15\t+\tCCC\t0\t2\t0\tCHH\n",
    "1\t16\t+\tCCT\t0\t2\t0\tCHH\n",
    "1\t17\t+\tCTA\t0\t2\t0\tCHH\n",
    "1\t22\t+\tCCC\t0\t4\t0\tCHH\n",
    "\n",
    "\n",
    "\n",
    "Column1: chromosome\n",
    "Column2: cytosine position\n",
    "Column3: strand\n",
    "Column4: CNN (N = A, T, C, G)\n",
    "Column5: methylated cytosines in this site\n",
    "Column6: mapped cytosines in this site\n",
    "Column7: binomial test, 1 means pass, 0 means fail\n",
    "\n",
    "\n"
   ]
  }
 ],
 "metadata": {
  "kernelspec": {
   "display_name": "Python 3",
   "language": "python",
   "name": "python3"
  },
  "language_info": {
   "codemirror_mode": {
    "name": "ipython",
    "version": 3
   },
   "file_extension": ".py",
   "mimetype": "text/x-python",
   "name": "python",
   "nbconvert_exporter": "python",
   "pygments_lexer": "ipython3",
   "version": "3.6.5"
  }
 },
 "nbformat": 4,
 "nbformat_minor": 2
}
